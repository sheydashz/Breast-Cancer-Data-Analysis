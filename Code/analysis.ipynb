{
 "cells": [
  {
   "cell_type": "code",
   "execution_count": 62,
   "metadata": {},
   "outputs": [],
   "source": [
    "import numpy as np\n",
    "import pandas as pd\n",
    "import seaborn as sns\n",
    "import matplotlib.pyplot as plt\n",
    "import sklearn\n",
    "from sklearn import preprocessing\n",
    "from sklearn.decomposition import PCA\n",
    "from sklearn.preprocessing import MinMaxScaler\n"
   ]
  },
  {
   "cell_type": "code",
   "execution_count": 6,
   "metadata": {},
   "outputs": [],
   "source": [
    "%matplotlib inline"
   ]
  },
  {
   "cell_type": "code",
   "execution_count": 7,
   "metadata": {},
   "outputs": [],
   "source": [
    "df=pd.read_csv('./data.csv')"
   ]
  },
  {
   "cell_type": "markdown",
   "metadata": {},
   "source": [
    "# Data Cleansing"
   ]
  },
  {
   "cell_type": "code",
   "execution_count": 8,
   "metadata": {},
   "outputs": [],
   "source": [
    "# remove column useless columns\n",
    "df.drop(columns=['Unnamed: 32'],inplace=True)\n",
    "df.drop(columns=['id'],inplace=True)\n",
    "# covert diagnosis to numeric\n",
    "df['diagnosis']=df['diagnosis'].map({'M':1,'B':0})\n",
    "# scale the dataset\n",
    "scaler=MinMaxScaler()\n",
    "new_df=pd.DataFrame(scaler.fit_transform(df),columns=df.columns)"
   ]
  },
  {
   "cell_type": "markdown",
   "metadata": {},
   "source": [
    "# Visualization"
   ]
  },
  {
   "cell_type": "code",
   "execution_count": 9,
   "metadata": {},
   "outputs": [],
   "source": [
    "plt.rcParams.update({'font.size':14})"
   ]
  },
  {
   "cell_type": "code",
   "execution_count": 10,
   "metadata": {},
   "outputs": [
    {
     "data": {
      "text/html": [
       "<style  type=\"text/css\" >\n",
       "#T_592bd480_7007_11eb_8f89_1ebfcef6589frow0_col0{\n",
       "            background-color:  #67000d;\n",
       "            color:  #f1f1f1;\n",
       "        }#T_592bd480_7007_11eb_8f89_1ebfcef6589frow0_col1{\n",
       "            background-color:  #cb181d;\n",
       "            color:  #f1f1f1;\n",
       "        }#T_592bd480_7007_11eb_8f89_1ebfcef6589frow0_col2,#T_592bd480_7007_11eb_8f89_1ebfcef6589frow0_col29{\n",
       "            background-color:  #fb7a5a;\n",
       "            color:  #000000;\n",
       "        }#T_592bd480_7007_11eb_8f89_1ebfcef6589frow0_col3{\n",
       "            background-color:  #c8171c;\n",
       "            color:  #f1f1f1;\n",
       "        }#T_592bd480_7007_11eb_8f89_1ebfcef6589frow0_col4{\n",
       "            background-color:  #d11e1f;\n",
       "            color:  #f1f1f1;\n",
       "        }#T_592bd480_7007_11eb_8f89_1ebfcef6589frow0_col5{\n",
       "            background-color:  #fc8a6a;\n",
       "            color:  #000000;\n",
       "        }#T_592bd480_7007_11eb_8f89_1ebfcef6589frow0_col6{\n",
       "            background-color:  #ef3c2c;\n",
       "            color:  #f1f1f1;\n",
       "        }#T_592bd480_7007_11eb_8f89_1ebfcef6589frow0_col7{\n",
       "            background-color:  #d42121;\n",
       "            color:  #f1f1f1;\n",
       "        }#T_592bd480_7007_11eb_8f89_1ebfcef6589frow0_col8,#T_592bd480_7007_11eb_8f89_1ebfcef6589frow0_col21{\n",
       "            background-color:  #be151a;\n",
       "            color:  #f1f1f1;\n",
       "        }#T_592bd480_7007_11eb_8f89_1ebfcef6589frow0_col9{\n",
       "            background-color:  #fc9373;\n",
       "            color:  #000000;\n",
       "        }#T_592bd480_7007_11eb_8f89_1ebfcef6589frow0_col10{\n",
       "            background-color:  #ffede5;\n",
       "            color:  #000000;\n",
       "        }#T_592bd480_7007_11eb_8f89_1ebfcef6589frow0_col11{\n",
       "            background-color:  #f24633;\n",
       "            color:  #000000;\n",
       "        }#T_592bd480_7007_11eb_8f89_1ebfcef6589frow0_col12,#T_592bd480_7007_11eb_8f89_1ebfcef6589frow0_col19{\n",
       "            background-color:  #ffece3;\n",
       "            color:  #000000;\n",
       "        }#T_592bd480_7007_11eb_8f89_1ebfcef6589frow0_col13{\n",
       "            background-color:  #f34a36;\n",
       "            color:  #000000;\n",
       "        }#T_592bd480_7007_11eb_8f89_1ebfcef6589frow0_col14{\n",
       "            background-color:  #f44d38;\n",
       "            color:  #000000;\n",
       "        }#T_592bd480_7007_11eb_8f89_1ebfcef6589frow0_col15{\n",
       "            background-color:  #fff5f0;\n",
       "            color:  #000000;\n",
       "        }#T_592bd480_7007_11eb_8f89_1ebfcef6589frow0_col16{\n",
       "            background-color:  #fc9e80;\n",
       "            color:  #000000;\n",
       "        }#T_592bd480_7007_11eb_8f89_1ebfcef6589frow0_col17{\n",
       "            background-color:  #fcab8f;\n",
       "            color:  #000000;\n",
       "        }#T_592bd480_7007_11eb_8f89_1ebfcef6589frow0_col18{\n",
       "            background-color:  #fb7c5c;\n",
       "            color:  #000000;\n",
       "        }#T_592bd480_7007_11eb_8f89_1ebfcef6589frow0_col20{\n",
       "            background-color:  #fedecf;\n",
       "            color:  #000000;\n",
       "        }#T_592bd480_7007_11eb_8f89_1ebfcef6589frow0_col22{\n",
       "            background-color:  #fb6d4d;\n",
       "            color:  #000000;\n",
       "        }#T_592bd480_7007_11eb_8f89_1ebfcef6589frow0_col23{\n",
       "            background-color:  #bd151a;\n",
       "            color:  #f1f1f1;\n",
       "        }#T_592bd480_7007_11eb_8f89_1ebfcef6589frow0_col24{\n",
       "            background-color:  #ca181d;\n",
       "            color:  #f1f1f1;\n",
       "        }#T_592bd480_7007_11eb_8f89_1ebfcef6589frow0_col25{\n",
       "            background-color:  #fb7757;\n",
       "            color:  #000000;\n",
       "        }#T_592bd480_7007_11eb_8f89_1ebfcef6589frow0_col26{\n",
       "            background-color:  #f03f2e;\n",
       "            color:  #f1f1f1;\n",
       "        }#T_592bd480_7007_11eb_8f89_1ebfcef6589frow0_col27{\n",
       "            background-color:  #de2b25;\n",
       "            color:  #f1f1f1;\n",
       "        }#T_592bd480_7007_11eb_8f89_1ebfcef6589frow0_col28{\n",
       "            background-color:  #b91419;\n",
       "            color:  #f1f1f1;\n",
       "        }#T_592bd480_7007_11eb_8f89_1ebfcef6589frow0_col30{\n",
       "            background-color:  #fc9576;\n",
       "            color:  #000000;\n",
       "        }</style><table id=\"T_592bd480_7007_11eb_8f89_1ebfcef6589f\" ><thead>    <tr>        <th class=\"blank level0\" ></th>        <th class=\"col_heading level0 col0\" >diagnosis</th>        <th class=\"col_heading level0 col1\" >radius_mean</th>        <th class=\"col_heading level0 col2\" >texture_mean</th>        <th class=\"col_heading level0 col3\" >perimeter_mean</th>        <th class=\"col_heading level0 col4\" >area_mean</th>        <th class=\"col_heading level0 col5\" >smoothness_mean</th>        <th class=\"col_heading level0 col6\" >compactness_mean</th>        <th class=\"col_heading level0 col7\" >concavity_mean</th>        <th class=\"col_heading level0 col8\" >concave points_mean</th>        <th class=\"col_heading level0 col9\" >symmetry_mean</th>        <th class=\"col_heading level0 col10\" >fractal_dimension_mean</th>        <th class=\"col_heading level0 col11\" >radius_se</th>        <th class=\"col_heading level0 col12\" >texture_se</th>        <th class=\"col_heading level0 col13\" >perimeter_se</th>        <th class=\"col_heading level0 col14\" >area_se</th>        <th class=\"col_heading level0 col15\" >smoothness_se</th>        <th class=\"col_heading level0 col16\" >compactness_se</th>        <th class=\"col_heading level0 col17\" >concavity_se</th>        <th class=\"col_heading level0 col18\" >concave points_se</th>        <th class=\"col_heading level0 col19\" >symmetry_se</th>        <th class=\"col_heading level0 col20\" >fractal_dimension_se</th>        <th class=\"col_heading level0 col21\" >radius_worst</th>        <th class=\"col_heading level0 col22\" >texture_worst</th>        <th class=\"col_heading level0 col23\" >perimeter_worst</th>        <th class=\"col_heading level0 col24\" >area_worst</th>        <th class=\"col_heading level0 col25\" >smoothness_worst</th>        <th class=\"col_heading level0 col26\" >compactness_worst</th>        <th class=\"col_heading level0 col27\" >concavity_worst</th>        <th class=\"col_heading level0 col28\" >concave points_worst</th>        <th class=\"col_heading level0 col29\" >symmetry_worst</th>        <th class=\"col_heading level0 col30\" >fractal_dimension_worst</th>    </tr></thead><tbody>\n",
       "                <tr>\n",
       "                        <th id=\"T_592bd480_7007_11eb_8f89_1ebfcef6589flevel0_row0\" class=\"row_heading level0 row0\" >0</th>\n",
       "                        <td id=\"T_592bd480_7007_11eb_8f89_1ebfcef6589frow0_col0\" class=\"data row0 col0\" >1</td>\n",
       "                        <td id=\"T_592bd480_7007_11eb_8f89_1ebfcef6589frow0_col1\" class=\"data row0 col1\" >0.730</td>\n",
       "                        <td id=\"T_592bd480_7007_11eb_8f89_1ebfcef6589frow0_col2\" class=\"data row0 col2\" >0.415</td>\n",
       "                        <td id=\"T_592bd480_7007_11eb_8f89_1ebfcef6589frow0_col3\" class=\"data row0 col3\" >0.743</td>\n",
       "                        <td id=\"T_592bd480_7007_11eb_8f89_1ebfcef6589frow0_col4\" class=\"data row0 col4\" >0.709</td>\n",
       "                        <td id=\"T_592bd480_7007_11eb_8f89_1ebfcef6589frow0_col5\" class=\"data row0 col5\" >0.359</td>\n",
       "                        <td id=\"T_592bd480_7007_11eb_8f89_1ebfcef6589frow0_col6\" class=\"data row0 col6\" >0.597</td>\n",
       "                        <td id=\"T_592bd480_7007_11eb_8f89_1ebfcef6589frow0_col7\" class=\"data row0 col7\" >0.696</td>\n",
       "                        <td id=\"T_592bd480_7007_11eb_8f89_1ebfcef6589frow0_col8\" class=\"data row0 col8\" >0.777</td>\n",
       "                        <td id=\"T_592bd480_7007_11eb_8f89_1ebfcef6589frow0_col9\" class=\"data row0 col9\" >0.330</td>\n",
       "                        <td id=\"T_592bd480_7007_11eb_8f89_1ebfcef6589frow0_col10\" class=\"data row0 col10\" >-0.013</td>\n",
       "                        <td id=\"T_592bd480_7007_11eb_8f89_1ebfcef6589frow0_col11\" class=\"data row0 col11\" >0.567</td>\n",
       "                        <td id=\"T_592bd480_7007_11eb_8f89_1ebfcef6589frow0_col12\" class=\"data row0 col12\" >-0.008</td>\n",
       "                        <td id=\"T_592bd480_7007_11eb_8f89_1ebfcef6589frow0_col13\" class=\"data row0 col13\" >0.556</td>\n",
       "                        <td id=\"T_592bd480_7007_11eb_8f89_1ebfcef6589frow0_col14\" class=\"data row0 col14\" >0.548</td>\n",
       "                        <td id=\"T_592bd480_7007_11eb_8f89_1ebfcef6589frow0_col15\" class=\"data row0 col15\" >-0.067</td>\n",
       "                        <td id=\"T_592bd480_7007_11eb_8f89_1ebfcef6589frow0_col16\" class=\"data row0 col16\" >0.293</td>\n",
       "                        <td id=\"T_592bd480_7007_11eb_8f89_1ebfcef6589frow0_col17\" class=\"data row0 col17\" >0.254</td>\n",
       "                        <td id=\"T_592bd480_7007_11eb_8f89_1ebfcef6589frow0_col18\" class=\"data row0 col18\" >0.408</td>\n",
       "                        <td id=\"T_592bd480_7007_11eb_8f89_1ebfcef6589frow0_col19\" class=\"data row0 col19\" >-0.007</td>\n",
       "                        <td id=\"T_592bd480_7007_11eb_8f89_1ebfcef6589frow0_col20\" class=\"data row0 col20\" >0.078</td>\n",
       "                        <td id=\"T_592bd480_7007_11eb_8f89_1ebfcef6589frow0_col21\" class=\"data row0 col21\" >0.776</td>\n",
       "                        <td id=\"T_592bd480_7007_11eb_8f89_1ebfcef6589frow0_col22\" class=\"data row0 col22\" >0.457</td>\n",
       "                        <td id=\"T_592bd480_7007_11eb_8f89_1ebfcef6589frow0_col23\" class=\"data row0 col23\" >0.783</td>\n",
       "                        <td id=\"T_592bd480_7007_11eb_8f89_1ebfcef6589frow0_col24\" class=\"data row0 col24\" >0.734</td>\n",
       "                        <td id=\"T_592bd480_7007_11eb_8f89_1ebfcef6589frow0_col25\" class=\"data row0 col25\" >0.421</td>\n",
       "                        <td id=\"T_592bd480_7007_11eb_8f89_1ebfcef6589frow0_col26\" class=\"data row0 col26\" >0.591</td>\n",
       "                        <td id=\"T_592bd480_7007_11eb_8f89_1ebfcef6589frow0_col27\" class=\"data row0 col27\" >0.660</td>\n",
       "                        <td id=\"T_592bd480_7007_11eb_8f89_1ebfcef6589frow0_col28\" class=\"data row0 col28\" >0.794</td>\n",
       "                        <td id=\"T_592bd480_7007_11eb_8f89_1ebfcef6589frow0_col29\" class=\"data row0 col29\" >0.416</td>\n",
       "                        <td id=\"T_592bd480_7007_11eb_8f89_1ebfcef6589frow0_col30\" class=\"data row0 col30\" >0.324</td>\n",
       "            </tr>\n",
       "    </tbody></table>"
      ],
      "text/plain": [
       "<pandas.io.formats.style.Styler at 0x12b92116448>"
      ]
     },
     "execution_count": 10,
     "metadata": {},
     "output_type": "execute_result"
    }
   ],
   "source": [
    "## show correlation between diagnosis and features\n",
    "correlations=pd.DataFrame(df.corrwith(df['diagnosis'])).transpose()\n",
    "correlations.style.background_gradient(cmap='Reds',axis=1).format('{:.3f}').format('{:.0f}',subset=['diagnosis'])"
   ]
  },
  {
   "cell_type": "code",
   "execution_count": 11,
   "metadata": {},
   "outputs": [
    {
     "name": "stdout",
     "output_type": "stream",
     "text": [
      "Top 5 features correlated with diagnosis:\n",
      "\n",
      "concave points_worst:  0.7935660171412686\n",
      "perimeter_worst:  0.7829141371737581\n",
      "concave points_mean:  0.7766138400204347\n",
      "radius_worst:  0.7764537785950383\n",
      "perimeter_mean:  0.7426355297258318\n"
     ]
    }
   ],
   "source": [
    "# Top 5 most correlated features with diagnosis\n",
    "\n",
    "temp=df.corrwith(df['diagnosis']).drop('diagnosis').sort_values(ascending=False)\n",
    "top_five=temp[:5]\n",
    "\n",
    "print('Top 5 features correlated with diagnosis:\\n')\n",
    "l1=list(top_five.index)\n",
    "l2=list(top_five)\n",
    "for x in list(zip(l1,l2)):\n",
    "    print(str(x[0])+':  '+ str(x[1]))"
   ]
  },
  {
   "cell_type": "code",
   "execution_count": 12,
   "metadata": {},
   "outputs": [],
   "source": [
    "dfM=df[df['diagnosis']==1]\n",
    "dfB=df[df['diagnosis']==0]"
   ]
  },
  {
   "cell_type": "code",
   "execution_count": 13,
   "metadata": {},
   "outputs": [
    {
     "name": "stderr",
     "output_type": "stream",
     "text": [
      "C:\\Users\\sheyda\\anaconda3\\lib\\site-packages\\numpy\\core\\_asarray.py:83: VisibleDeprecationWarning: Creating an ndarray from ragged nested sequences (which is a list-or-tuple of lists-or-tuples-or ndarrays with different lengths or shapes) is deprecated. If you meant to do this, you must specify 'dtype=object' when creating the ndarray\n",
      "  return array(a, dtype, copy=False, order=order)\n"
     ]
    },
    {
     "data": {
      "text/plain": [
       "''"
      ]
     },
     "execution_count": 13,
     "metadata": {},
     "output_type": "execute_result"
    },
    {
     "data": {
      "image/png": "[encoded data removed]",
      "text/plain": [
       "<Figure size 1080x720 with 9 Axes>"
      ]
     },
     "metadata": {
      "needs_background": "light"
     },
     "output_type": "display_data"
    }
   ],
   "source": [
    "# Most correlated features: positive-negative correlations\n",
    "negative_corr=temp[temp<0]\n",
    "top_five_neg=list(negative_corr.index)\n",
    "impo_features=top_five_neg+list(top_five.index)\n",
    "\n",
    "\n",
    "fig,axes=plt.subplots(3,3,figsize=(15,10))\n",
    "k=0\n",
    "for i in range(0,3):\n",
    "    for j in range(0,3):\n",
    "        axes[i][j].hist([dfM[impo_features[k]],dfB[impo_features[k]]],bins=50,label=['Melignant','Benign'],color=['r','g'],stacked=True)\n",
    "        axes[i][j].legend()\n",
    "        axes[i][j].set_title(impo_features[k])\n",
    "        k= k+1\n",
    "        \n",
    "plt.tight_layout()\n",
    ";"
   ]
  },
  {
   "cell_type": "code",
   "execution_count": 14,
   "metadata": {},
   "outputs": [
    {
     "data": {
      "text/plain": [
       "''"
      ]
     },
     "execution_count": 14,
     "metadata": {},
     "output_type": "execute_result"
    },
    {
     "data": {
      "image/png": "[encoded data removed]",
      "text/plain": [
       "<Figure size 936x504 with 1 Axes>"
      ]
     },
     "metadata": {
      "needs_background": "light"
     },
     "output_type": "display_data"
    }
   ],
   "source": [
    "plt.figure(figsize=(13,7))\n",
    "plt.hist(df['diagnosis']/2,width=0.13)\n",
    "plt.xticks([0.06,0.52,0.63],labels=['benign','Malignant'],fontsize=12)\n",
    "plt.title('Number of Diganosis',fontsize=25)\n",
    "plt.ylabel('Number of Cases',fontsize=15)\n",
    "plt.xlabel('Diagnosis',fontsize=15)\n",
    ";"
   ]
  },
  {
   "cell_type": "code",
   "execution_count": 15,
   "metadata": {},
   "outputs": [
    {
     "data": {
      "text/plain": [
       "''"
      ]
     },
     "execution_count": 15,
     "metadata": {},
     "output_type": "execute_result"
    },
    {
     "data": {
      "image/png": "[encoded data removed]",
      "text/plain": [
       "<Figure size 1440x576 with 1 Axes>"
      ]
     },
     "metadata": {},
     "output_type": "display_data"
    }
   ],
   "source": [
    "cmap = plt.get_cmap('Spectral')\n",
    "colors = [cmap(i) for i in np.linspace(0, 1, 8)]\n",
    "\n",
    "from matplotlib.gridspec import GridSpec\n",
    "plt.figure(1, figsize=(20,8))\n",
    "the_grid = GridSpec(2, 2)\n",
    "\n",
    "plt.pie(df['diagnosis'].value_counts(),labels=['Benign','Malignant'],autopct='%1.1f%%', shadow=True,colors=colors)\n",
    "plt.title('Distribution of Diagnosis',fontsize=24)\n",
    ";"
   ]
  },
  {
   "cell_type": "markdown",
   "metadata": {},
   "source": [
    "## Feature reduction"
   ]
  },
  {
   "cell_type": "markdown",
   "metadata": {},
   "source": [
    "### PCA: Unsupervised"
   ]
  },
  {
   "cell_type": "code",
   "execution_count": 16,
   "metadata": {},
   "outputs": [],
   "source": [
    "from sklearn.decomposition import PCA\n",
    "from sklearn.preprocessing import StandardScaler\n",
    "\n",
    "pca_data=df.drop(columns=['diagnosis'])\n",
    "column_names=pca_data.columns\n",
    "\n",
    "scaled_data=StandardScaler().fit_transform(pca_data)\n",
    "pca=PCA(n_components=0.95).fit(scaled_data)\n",
    "output=pca.transform(scaled_data)"
   ]
  },
  {
   "cell_type": "markdown",
   "metadata": {},
   "source": [
    "### LDA: Supervised"
   ]
  },
  {
   "cell_type": "code",
   "execution_count": 17,
   "metadata": {},
   "outputs": [
    {
     "data": {
      "text/plain": [
       "0.9753954305799648"
      ]
     },
     "execution_count": 17,
     "metadata": {},
     "output_type": "execute_result"
    }
   ],
   "source": [
    "from sklearn.discriminant_analysis import LinearDiscriminantAnalysis as LDA\n",
    "from sklearn.metrics import accuracy_score\n",
    "\n",
    "target=df['diagnosis']\n",
    "data_lda=df.drop(columns=['diagnosis'])\n",
    "\n",
    "lda=LDA(n_components=1)\n",
    "output=lda.fit(data_lda,target).transform(data_lda)\n",
    "result=[1 if output[i]>0 else 0 for i in range(output.shape[0])]\n",
    "accuracy_score(result,target)"
   ]
  },
  {
   "cell_type": "markdown",
   "metadata": {},
   "source": [
    "# Learning Algorithms"
   ]
  },
  {
   "cell_type": "markdown",
   "metadata": {},
   "source": [
    "### Metrics:\n",
    "1) accuracy: correctly predicted labels / number of total samples\n",
    "\n",
    "2) precision: True positive / total positive(true positive+ false positive)\n",
    "\n",
    "3) recall: True positive / (true positive + false negative)\n",
    "\n",
    "4) F1: 2\\*(precision\\*recall) / (precision+recall)"
   ]
  },
  {
   "cell_type": "code",
   "execution_count": 18,
   "metadata": {},
   "outputs": [],
   "source": [
    "from sklearn.metrics import accuracy_score\n",
    "from sklearn.metrics import precision_score\n",
    "from sklearn.metrics import recall_score\n",
    "from sklearn.metrics import f1_score"
   ]
  },
  {
   "cell_type": "code",
   "execution_count": 19,
   "metadata": {},
   "outputs": [],
   "source": [
    "target=df['diagnosis']\n",
    "features=df.drop(columns=['diagnosis'])\n",
    "\n",
    "from sklearn.model_selection import train_test_split\n",
    "x_train,x_test,y_train,y_test=train_test_split(features,target,test_size=0.33,random_state=42)\n",
    "\n",
    "# scale data\n",
    "model=StandardScaler()\n",
    "features=model.fit_transform(x_train)\n",
    "features_test=model.fit_transform(x_test)"
   ]
  },
  {
   "cell_type": "markdown",
   "metadata": {},
   "source": [
    "## SVM"
   ]
  },
  {
   "cell_type": "markdown",
   "metadata": {},
   "source": [
    "#### make sure to use the same scaler for both test and train sets"
   ]
  },
  {
   "cell_type": "code",
   "execution_count": 20,
   "metadata": {},
   "outputs": [
    {
     "name": "stdout",
     "output_type": "stream",
     "text": [
      "accuracy without normalization of test set:0.36\n",
      "accuracy with normalization of test set:0.98\n",
      "precision of test set:0.97\n",
      "recall of test set:0.98\n",
      "F1_score of test set:0.98\n"
     ]
    }
   ],
   "source": [
    "# use SVM\n",
    "from sklearn import svm \n",
    "model_svm=svm.SVC()\n",
    "model_svm.fit(features,y_train)\n",
    "preds1=model_svm.predict(x_test)\n",
    "preds2=model_svm.predict(features_test)\n",
    "# accuracy on test set\n",
    "acc1=accuracy_score(preds1,y_test)\n",
    "acc2=accuracy_score(preds2,y_test)\n",
    "precision=precision_score(preds2,y_test)\n",
    "recall=recall_score(preds2,y_test)\n",
    "f1=f1_score(preds2,y_test)\n",
    "\n",
    "\n",
    "print('accuracy without normalization of test set:{:.2f}'.format(acc1))\n",
    "print('accuracy with normalization of test set:{:.2f}'.format(acc2))\n",
    "print('precision of test set:{:.2f}'.format(precision))\n",
    "print('recall of test set:{:.2f}'.format(recall))\n",
    "print('F1_score of test set:{:.2f}'.format(f1))"
   ]
  },
  {
   "cell_type": "markdown",
   "metadata": {},
   "source": [
    "As can be seen from above results, precision is slightly less than other metrics (only by 1%). This means that we are having a higher false positive rate. Which is quite logical, as if we see the distribution of the datapoint in the corresponding Pie chart we depicted previously, we can see that the dataset is imbalanced and we have almost 75% more benign samples than malignant. "
   ]
  },
  {
   "cell_type": "markdown",
   "metadata": {},
   "source": [
    "## Logistice regression"
   ]
  },
  {
   "cell_type": "code",
   "execution_count": 21,
   "metadata": {},
   "outputs": [],
   "source": [
    "from sklearn.linear_model import LogisticRegression"
   ]
  },
  {
   "cell_type": "code",
   "execution_count": 33,
   "metadata": {},
   "outputs": [
    {
     "name": "stdout",
     "output_type": "stream",
     "text": [
      "accuracy of test set:0.99\n",
      "precision of test set:0.99\n",
      "recall of test set:1.00\n",
      "F1_score of test set:0.99\n"
     ]
    }
   ],
   "source": [
    "logistic_model=LogisticRegression()\n",
    "\n",
    "logistic_model.fit(features,y_train)\n",
    "\n",
    "logistic_predict=logistic_model.predict(features_test)\n",
    "\n",
    "\n",
    "acc=accuracy_score(logistic_predict,y_test)\n",
    "\n",
    "precision=precision_score(logistic_predict,y_test)\n",
    "\n",
    "recall=recall_score(logistic_predict,y_test)\n",
    "f1=f1_score(logistic_predict,y_test)\n",
    "\n",
    "\n",
    "print('accuracy of test set:{:.2f}'.format(acc))\n",
    "print('precision of test set:{:.2f}'.format(precision))\n",
    "print('recall of test set:{:.2f}'.format(recall))\n",
    "print('F1_score of test set:{:.2f}'.format(f1))"
   ]
  },
  {
   "cell_type": "markdown",
   "metadata": {},
   "source": [
    "# Random Forest Classifier"
   ]
  },
  {
   "cell_type": "code",
   "execution_count": 66,
   "metadata": {},
   "outputs": [
    {
     "name": "stdout",
     "output_type": "stream",
     "text": [
      "accuracy of test set:0.97\n",
      "precision of test set:0.97\n",
      "recall of test set:0.94\n",
      "F1_score of test set:0.96\n"
     ]
    }
   ],
   "source": [
    "from sklearn.ensemble import RandomForestClassifier\n",
    "from sklearn.metrics import RocCurveDisplay,roc_curve,auc\n",
    "model_forest=RandomForestClassifier(n_estimators=10)\n",
    "model_forest.fit(features,y_train)\n",
    "predict=model_forest.predict(features_test)\n",
    "\n",
    "acc=accuracy_score(predict,y_test)\n",
    "precision=precision_score(predict,y_test)\n",
    "recall=recall_score(predict,y_test)\n",
    "f1=f1_score(predict,y_test)\n",
    "\n",
    "print('accuracy of test set:{:.2f}'.format(acc))\n",
    "print('precision of test set:{:.2f}'.format(precision))\n",
    "print('recall of test set:{:.2f}'.format(recall))\n",
    "print('F1_score of test set:{:.2f}'.format(f1))\n",
    "\n",
    "score_forest=roc_curve(y_test,predict)"
   ]
  },
  {
   "cell_type": "markdown",
   "metadata": {},
   "source": [
    "# RoC curve to compare Logistic regression and Random forest classifiers"
   ]
  },
  {
   "cell_type": "code",
   "execution_count": 85,
   "metadata": {},
   "outputs": [
    {
     "data": {
      "image/png": "[encoded data removed]",
      "text/plain": [
       "<Figure size 432x288 with 1 Axes>"
      ]
     },
     "metadata": {
      "needs_background": "light"
     },
     "output_type": "display_data"
    }
   ],
   "source": [
    "y_pred_proba = model.predict_proba(features_test)[::,1]\n",
    "fpr, tpr, _ = sklearn.metrics.roc_curve(y_test,  y_pred_proba)\n",
    "y_pred_proba = logistic_model.predict_proba(features_test)[::,1]\n",
    "fpr1, tpr1, _ = sklearn.metrics.roc_curve(y_test,  y_pred_proba)\n",
    "\n",
    "\n",
    "auc = sklearn.metrics.roc_auc_score(y_test, y_pred_proba)\n",
    "plt.plot(fpr,tpr,label='Forest ROC curve')\n",
    "plt.plot(fpr1,tpr1,label='Logistic Reg. ROC curve')\n",
    "plt.plot([0, 1], [0, 1], color='navy', lw=lw, linestyle='--')\n",
    "\n",
    "plt.legend(loc=4)\n",
    "plt.xlabel('False Positive Rate')\n",
    "plt.ylabel('True Positive Rate')\n",
    "plt.title('Receiver operating characteristic example')\n",
    "plt.legend(loc=\"lower right\")\n",
    "plt.show()\n",
    "plt.show()"
   ]
  },
  {
   "cell_type": "markdown",
   "metadata": {},
   "source": [
    "As the auc is slightly higher in Logistic regression, we can deduct that Logistic regression is working better than random forest clasifier."
   ]
  },
  {
   "cell_type": "markdown",
   "metadata": {},
   "source": [
    "## Neural networks"
   ]
  },
  {
   "cell_type": "code",
   "execution_count": 146,
   "metadata": {},
   "outputs": [],
   "source": [
    "import torch\n",
    "from torch import nn\n",
    "from torch.utils.data import DataLoader,TensorDataset\n",
    "from torchvision.transforms import ToTensor\n",
    "import torch.nn.functional as F"
   ]
  },
  {
   "cell_type": "code",
   "execution_count": 294,
   "metadata": {},
   "outputs": [],
   "source": [
    "dataset = TensorDataset(torch.tensor(features),torch.tensor(y_train.values))\n",
    "train_dl=DataLoader(dataset,batch_size=40,shuffle=True)\n",
    "\n",
    "dataset=TensorDataset(torch.tensor(features_test),torch.tensor(y_test.values))\n",
    "test_dl=DataLoader(dataset,batch_size=40,shuffle=True)\n"
   ]
  },
  {
   "cell_type": "code",
   "execution_count": 318,
   "metadata": {},
   "outputs": [],
   "source": [
    "class Net(nn.Module):\n",
    "    def __init__(self):\n",
    "        super().__init__()\n",
    "        self.layer1= nn.Linear(30,40)\n",
    "        self.layer2= nn.Linear(40,40)\n",
    "        self.drop1=nn.Dropout(0.2)\n",
    "        self.layer3=nn.Linear(40,50)\n",
    "        self.layer4=nn.Linear(50,2)\n",
    "    \n",
    "    def forward(self,x):\n",
    "        x=x.float()\n",
    "        x=F.relu(self.layer1(x))\n",
    "        x=self.drop1(x)\n",
    "        x=F.relu(self.layer2(x))\n",
    "        x=self.drop1(x)\n",
    "        x=F.relu(self.layer3(x))\n",
    "        x=self.layer4(x)\n",
    "        return F.log_softmax(x)\n",
    "    "
   ]
  },
  {
   "cell_type": "code",
   "execution_count": 323,
   "metadata": {},
   "outputs": [],
   "source": [
    "network=Net()\n",
    "optimizer=torch.optim.SGD(network.parameters(),lr=1e-1)"
   ]
  },
  {
   "cell_type": "code",
   "execution_count": 327,
   "metadata": {},
   "outputs": [],
   "source": [
    "def train(epoch):\n",
    "    for batch_indx,(data,target) in enumerate(train_dl):\n",
    "        optimizer.zero_grad()\n",
    "        pred=network(data)\n",
    "        loss=F.cross_entropy(pred,target)\n",
    "        loss.backward()\n",
    "        optimizer.step()\n",
    "        output=pred.data.max(1,keepdim=True)[1]\n",
    "        accuracy=sklearn.metrics.accuracy_score(output,target)\n",
    "#         if (batch_indx % 5 ==0):\n",
    "#             print('{}/{} loss: {:.3f} - accuracy: {:.3f}'.format(epoch,20,loss.item(),accuracy))\n",
    "            "
   ]
  },
  {
   "cell_type": "code",
   "execution_count": 328,
   "metadata": {},
   "outputs": [],
   "source": [
    "def test(batch):\n",
    "    test_loss=0\n",
    "    correct=0\n",
    "    with torch.no_grad():\n",
    "        for indx,(data,target) in enumerate(test_dl):\n",
    "            pred=network(data)\n",
    "            test_loss = F.cross_entropy(pred,target)\n",
    "            output=pred.data.max(1,keepdim=True)[1]\n",
    "            accuracy=sklearn.metrics.accuracy_score(output,target)\n",
    "            if (indx % 5 ==0):\n",
    "                print('test loss: {:.2f} - test accuracy: {}'.format(test_loss/len(test_dl),accuracy))"
   ]
  },
  {
   "cell_type": "code",
   "execution_count": null,
   "metadata": {},
   "outputs": [],
   "source": [
    "for epoch in range(200):\n",
    "    train(epoch)\n",
    "    test(epoch)"
   ]
  },
  {
   "cell_type": "markdown",
   "metadata": {
    "scrolled": false
   },
   "source": [
    "the accuracy of model would be 0.98 on average and loss would be 0.004"
   ]
  },
  {
   "cell_type": "code",
   "execution_count": null,
   "metadata": {},
   "outputs": [],
   "source": []
  }
 ],
 "metadata": {
  "kernelspec": {
   "display_name": "Python 3",
   "language": "python",
   "name": "python3"
  },
  "language_info": {
   "codemirror_mode": {
    "name": "ipython",
    "version": 3
   },
   "file_extension": ".py",
   "mimetype": "text/x-python",
   "name": "python",
   "nbconvert_exporter": "python",
   "pygments_lexer": "ipython3",
   "version": "3.7.7"
  }
 },
 "nbformat": 4,
 "nbformat_minor": 4
}
